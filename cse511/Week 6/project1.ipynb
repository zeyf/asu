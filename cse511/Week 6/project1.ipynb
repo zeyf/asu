{
 "cells": [
  {
   "cell_type": "code",
   "execution_count": null,
   "metadata": {},
   "outputs": [],
   "source": [
    "from unqlite import UnQLite\n",
    "\n",
    "db = UnQLite('sample.db')\n",
    "data = db.collection('data')"
   ]
  },
  {
   "cell_type": "code",
   "execution_count": null,
   "metadata": {},
   "outputs": [
    {
     "ename": "",
     "evalue": "",
     "output_type": "error",
     "traceback": [
      "\u001b[1;31mRunning cells with 'Python 3.13.0' requires the ipykernel package.\n",
      "\u001b[1;31mRun the following command to install 'ipykernel' into the Python environment. \n",
      "\u001b[1;31mCommand: '/opt/homebrew/bin/python3 -m pip install ipykernel -U --user --force-reinstall'"
     ]
    }
   ],
   "source": [
    "# Graded Cell: test_function\n",
    "# DO NOT REMOVE THE ABOVE LINE\n",
    "\n",
    "def FindBusinessBasedOnCity(cityToSearch,saveLocation1,collection):\n",
    "    with open(saveLocation1, \"w+\") as f:\n",
    "        for record in collection.all():\n",
    "            if record[\"city\"] == cityToSearch:\n",
    "                f.write(\n",
    "                    \"$\".join([\n",
    "                        record[\"name\"],\n",
    "                        record[\"full_address\"],\n",
    "                        record[\"city\"],\n",
    "                        record[\"state\"]\n",
    "                    ])\n",
    "                    + \"\\n\"\n",
    "                )\n",
    "            \n",
    "\n",
    "def FindBusinessBasedOnLocation(categoriesToSearch, myLocation, maxDistance, saveLocation2, collection):\n",
    "    with open(saveLocation2, \"w+\") as f:\n",
    "        for record in collection.all():\n",
    "            if (\n",
    "                maxDistance > DistanceFunction(\n",
    "                    lat2=myLocation[0],\n",
    "                    lon2=myLocation[1],\n",
    "                    lat1=record[\"latitude\"],\n",
    "                    lon1=record[\"longitude\"]\n",
    "                )\n",
    "                and len(\n",
    "                    set(categoriesToSearch).intersection(set(record[\"categories\"]))\n",
    "                ) > 0\n",
    "            ):\n",
    "                f.write(\n",
    "                    record[\"name\"] + \"\\n\"\n",
    "                )\n",
    "\n",
    "def DistanceFunction(lat2, lon2, lat1, lon1):\n",
    "    import math\n",
    "\n",
    "    R = 3959\n",
    "\n",
    "    p1, p2 = math.radians(lat1), math.radians(lat2)\n",
    "    delta_p = math.radians(lat2 - lat1)\n",
    "    delta_l = math.radians(lon2 - lon1)\n",
    "    a = (\n",
    "        (\n",
    "            math.sin(delta_p / 2)\n",
    "            * math.sin(delta_p / 2)\n",
    "        )\n",
    "        + (\n",
    "            math.cos(p1)\n",
    "            * math.cos(p2)\n",
    "            * math.sin(delta_l / 2)\n",
    "            * math.sin(delta_l / 2)\n",
    "        )\n",
    "    )\n",
    "    c = 2 * math.atan2(\n",
    "        math.sqrt(a),\n",
    "        math.sqrt(1 - a)\n",
    "    )\n",
    "    d = R * c\n",
    "\n",
    "    return d"
   ]
  },
  {
   "cell_type": "code",
   "execution_count": null,
   "metadata": {},
   "outputs": [],
   "source": [
    "true_results = [\"VinciTorio's Restaurant$1835 E Elliot Rd, Ste C109, Tempe, AZ 85284$Tempe$AZ\", \"P.croissants$7520 S Rural Rd, Tempe, AZ 85283$Tempe$AZ\", \"Salt Creek Home$1725 W Ruby Dr, Tempe, AZ 85284$Tempe$AZ\"]\n",
    "\n",
    "try:\n",
    "    FindBusinessBasedOnCity('Tempe', 'output_city.txt', data)\n",
    "except NameError as e:\n",
    "    print ('The FindBusinessBasedOnCity function is not defined! You must run the cell containing the function before running this evaluation cell.')\n",
    "except TypeError as e:\n",
    "    print (\"The FindBusinessBasedOnCity function is supposed to accept three arguments. Yours does not!\")\n",
    "    \n",
    "try:\n",
    "    opf = open('output_city.txt', 'r')\n",
    "except FileNotFoundError as e:\n",
    "    print (\"The FindBusinessBasedOnCity function does not write data to the correct location.\")\n",
    "    \n",
    "lines = opf.readlines()\n",
    "if len(lines) != 3:\n",
    "    print (\"The FindBusinessBasedOnCity function does not find the correct number of results, should be 3.\")\n",
    "    \n",
    "lines = [line.strip() for line in lines]\n",
    "if sorted(lines) == sorted(true_results):\n",
    "    print (\"Correct! You FindBusinessByCity function passes these test cases. This does not cover all possible test edge cases, however, so make sure that your function covers them before submitting!\")"
   ]
  },
  {
   "cell_type": "code",
   "execution_count": null,
   "metadata": {},
   "outputs": [],
   "source": [
    "true_results = [\"VinciTorio's Restaurant\"]\n",
    "\n",
    "try:\n",
    "    FindBusinessBasedOnLocation(['Buffets'], [33.3482589, -111.9088346], 10, 'output_loc.txt', data)\n",
    "except NameError as e: \n",
    "    print ('The FindBusinessBasedOnLocation function is not defined! You must run the cell containing the function before running this evaluation cell.')\n",
    "except TypeError as e:\n",
    "    print (\"The FindBusinessBasedOnLocation function is supposed to accept five arguments. Yours does not!\")\n",
    "    \n",
    "try:\n",
    "    opf = open('output_loc.txt','r')\n",
    "except FileNotFoundError as e:\n",
    "    print (\"The FindBusinessBasedOnLocation function does not write data to the correct location.\")\n",
    "\n",
    "lines = opf.readlines()\n",
    "if len(lines) != 1:\n",
    "    print (\"The FindBusinessBasedOnLocation function does not find the correct number of results, should be only 1.\")\n",
    "\n",
    "if lines[0].strip() == true_results[0]:\n",
    "    print (\"Correct! Your FindBusinessBasedOnLocation function passes these test cases. This does not cover all possible edge cases, so make sure your function does before submitting.\")"
   ]
  },
  {
   "cell_type": "code",
   "execution_count": null,
   "metadata": {},
   "outputs": [],
   "source": []
  }
 ],
 "metadata": {
  "kernelspec": {
   "display_name": "Python 3",
   "language": "python",
   "name": "python3"
  },
  "language_info": {
   "codemirror_mode": {
    "name": "ipython",
    "version": 3
   },
   "file_extension": ".py",
   "mimetype": "text/x-python",
   "name": "python",
   "nbconvert_exporter": "python",
   "pygments_lexer": "ipython3",
   "version": "3.13.0"
  }
 },
 "nbformat": 4,
 "nbformat_minor": 4
}
